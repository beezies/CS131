{
 "cells": [
  {
   "cell_type": "code",
   "execution_count": 11,
   "id": "13deba1d-6377-4461-9244-9020a63bd764",
   "metadata": {},
   "outputs": [],
   "source": [
    "from pyspark.sql import SparkSession\n",
    "from pyspark.ml.feature import VectorAssembler\n",
    "from pyspark.ml.regression import DecisionTreeRegressor\n",
    "from pyspark.ml import Pipeline\n",
    "from pyspark.ml.evaluation import RegressionEvaluator\n",
    "from pyspark.sql.functions import col\n"
   ]
  },
  {
   "cell_type": "code",
   "execution_count": 12,
   "id": "0d5296d4-6165-4902-8fc0-f3bce1878ca2",
   "metadata": {},
   "outputs": [],
   "source": [
    "spark = SparkSession.builder.appName(\"Assignment4\").getOrCreate()\n"
   ]
  },
  {
   "cell_type": "code",
   "execution_count": 29,
   "id": "c7edd233-3a73-42b5-a638-5475639be21b",
   "metadata": {},
   "outputs": [
    {
     "name": "stdout",
     "output_type": "stream",
     "text": [
      "+---------------+------------+------------+------------+\n",
      "|passenger_count|PULocationID|DOLocationID|total_amount|\n",
      "+---------------+------------+------------+------------+\n",
      "|              1|       239.0|       239.0|         8.8|\n",
      "|              1|       230.0|       100.0|         8.3|\n",
      "|              1|        68.0|       127.0|       47.75|\n",
      "|              1|        68.0|        68.0|         7.3|\n",
      "|              1|        50.0|        42.0|       23.15|\n",
      "|              1|        95.0|       196.0|         9.8|\n",
      "|              1|       211.0|       211.0|         6.8|\n",
      "|              1|       237.0|       162.0|         7.8|\n",
      "|              1|       148.0|        37.0|        20.3|\n",
      "|              1|       265.0|       265.0|        0.31|\n",
      "+---------------+------------+------------+------------+\n",
      "only showing top 10 rows\n",
      "\n"
     ]
    }
   ],
   "source": [
    "df = spark.read.csv(\"2019-04.csv\", header=True, inferSchema=True)\n",
    "\n",
    "filtered_df = df.select(\"passenger_count\", \"PULocationID\", \"DOLocationID\", \"total_amount\") \\\n",
    "                .dropna() \\\n",
    "                .withColumn(\"passenger_count\", col(\"passenger_count\").cast(\"int\")) \\\n",
    "                .filter(\"total_amount < 300\") \\\n",
    "                .filter(\"total_amount > 0\") \\\n",
    "                .filter(\"passenger_count > 0\")\n",
    "\n",
    "filtered_df.show(10)\n"
   ]
  },
  {
   "cell_type": "code",
   "execution_count": 30,
   "id": "b05da5c2-3714-4d63-87a7-b80f36a1c773",
   "metadata": {},
   "outputs": [],
   "source": [
    "trainDF, testDF = filtered_df.randomSplit([0.8, 0.2], seed=42)\n"
   ]
  },
  {
   "cell_type": "code",
   "execution_count": 31,
   "id": "8747b16d-247d-4f1a-a7a5-f833cae62fc8",
   "metadata": {},
   "outputs": [],
   "source": [
    "assembler = VectorAssembler(\n",
    "    inputCols=[\"passenger_count\", \"PULocationID\", \"DOLocationID\"],\n",
    "    outputCol=\"features\"\n",
    ")\n"
   ]
  },
  {
   "cell_type": "code",
   "execution_count": 32,
   "id": "2461f2b8-c41e-4bbc-b8fb-5475fb0c6a6b",
   "metadata": {},
   "outputs": [],
   "source": [
    "dt = DecisionTreeRegressor(labelCol=\"total_amount\", featuresCol=\"features\")\n",
    "\n",
    "pipeline = Pipeline(stages=[assembler, dt])\n"
   ]
  },
  {
   "cell_type": "code",
   "execution_count": 33,
   "id": "c073648f-3a3c-461f-b929-06308c453b1b",
   "metadata": {},
   "outputs": [],
   "source": [
    "model = pipeline.fit(trainDF)\n"
   ]
  },
  {
   "cell_type": "code",
   "execution_count": 34,
   "id": "407a0177-7a8a-4e7e-8c5c-33539726d1d1",
   "metadata": {},
   "outputs": [
    {
     "name": "stdout",
     "output_type": "stream",
     "text": [
      "+---------------+------------+------------+------------------+\n",
      "|passenger_count|PULocationID|DOLocationID|        prediction|\n",
      "+---------------+------------+------------+------------------+\n",
      "|              1|         1.0|         1.0|20.078089399744336|\n",
      "|              1|         1.0|         1.0|20.078089399744336|\n",
      "|              1|         1.0|         1.0|20.078089399744336|\n",
      "|              1|         1.0|         1.0|20.078089399744336|\n",
      "|              1|         1.0|         1.0|20.078089399744336|\n",
      "|              1|         1.0|         1.0|20.078089399744336|\n",
      "|              1|         1.0|         1.0|20.078089399744336|\n",
      "|              1|         1.0|         1.0|20.078089399744336|\n",
      "|              1|         1.0|       264.0| 26.76297929094587|\n",
      "|              1|         1.0|       264.0| 26.76297929094587|\n",
      "+---------------+------------+------------+------------------+\n",
      "only showing top 10 rows\n",
      "\n"
     ]
    }
   ],
   "source": [
    "predictions = model.transform(testDF)\n",
    "predictions.select(\"passenger_count\", \"PULocationID\", \"DOLocationID\", \"prediction\").show(10)\n"
   ]
  },
  {
   "cell_type": "code",
   "execution_count": 35,
   "id": "16b11535-8cdc-47d5-a495-887f9f8e98b0",
   "metadata": {},
   "outputs": [
    {
     "name": "stdout",
     "output_type": "stream",
     "text": [
      "Root Mean Squared Error (RMSE): 11.995981228033358\n"
     ]
    }
   ],
   "source": [
    "evaluator = RegressionEvaluator(\n",
    "    labelCol=\"total_amount\", predictionCol=\"prediction\", metricName=\"rmse\"\n",
    ")\n",
    "rmse = evaluator.evaluate(predictions)\n",
    "print(f\"Root Mean Squared Error (RMSE): {rmse}\")\n"
   ]
  },
  {
   "cell_type": "code",
   "execution_count": 36,
   "id": "c0cc3202-f468-4aea-94fa-5ac700f05d83",
   "metadata": {},
   "outputs": [
    {
     "name": "stdout",
     "output_type": "stream",
     "text": [
      "+-------+------------------+\n",
      "|summary|      total_amount|\n",
      "+-------+------------------+\n",
      "|  count|           7282553|\n",
      "|   mean| 19.22256732649921|\n",
      "| stddev|14.429138551092501|\n",
      "|    min|              0.01|\n",
      "|    25%|              11.3|\n",
      "|    50%|             14.76|\n",
      "|    75%|             20.76|\n",
      "|    max|             299.8|\n",
      "+-------+------------------+\n",
      "\n"
     ]
    }
   ],
   "source": [
    "filtered_df.select(\"total_amount\").summary().show()\n"
   ]
  },
  {
   "cell_type": "code",
   "execution_count": null,
   "id": "bf2353d9-579a-4df5-8f88-89864e67a13d",
   "metadata": {},
   "outputs": [],
   "source": []
  }
 ],
 "metadata": {
  "kernelspec": {
   "display_name": "Python 3 (ipykernel)",
   "language": "python",
   "name": "python3"
  },
  "language_info": {
   "codemirror_mode": {
    "name": "ipython",
    "version": 3
   },
   "file_extension": ".py",
   "mimetype": "text/x-python",
   "name": "python",
   "nbconvert_exporter": "python",
   "pygments_lexer": "ipython3",
   "version": "3.11.6"
  }
 },
 "nbformat": 4,
 "nbformat_minor": 5
}
